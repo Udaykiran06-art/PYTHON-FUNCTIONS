{
  "nbformat": 4,
  "nbformat_minor": 0,
  "metadata": {
    "colab": {
      "provenance": [],
      "authorship_tag": "ABX9TyO/COZRdeyhPY/Y7ujvbI8t",
      "include_colab_link": true
    },
    "kernelspec": {
      "name": "python3",
      "display_name": "Python 3"
    },
    "language_info": {
      "name": "python"
    }
  },
  "cells": [
    {
      "cell_type": "markdown",
      "metadata": {
        "id": "view-in-github",
        "colab_type": "text"
      },
      "source": [
        "<a href=\"https://colab.research.google.com/github/Udaykiran06-art/PYTHON-FUNCTIONS/blob/main/Python_Functions_2.ipynb\" target=\"_parent\"><img src=\"https://colab.research.google.com/assets/colab-badge.svg\" alt=\"Open In Colab\"/></a>"
      ]
    },
    {
      "cell_type": "code",
      "execution_count": null,
      "metadata": {
        "colab": {
          "base_uri": "https://localhost:8080/"
        },
        "id": "3SgdkpZeLO6J",
        "outputId": "faa7f8fc-3042-499f-8f6e-180c0b0ecdad"
      },
      "outputs": [
        {
          "output_type": "stream",
          "name": "stdout",
          "text": [
            "25\n"
          ]
        }
      ],
      "source": [
        "#Formal and actual arguments\n",
        "def add(a,b):\n",
        "  c = a+b\n",
        "  print(c)\n",
        "#call the function\n",
        "x = 10\n",
        "y = 15\n",
        "add(x,y)"
      ]
    },
    {
      "cell_type": "code",
      "source": [
        "def add(x,y):\n",
        "  c = (x+y)\n",
        "  print(c)\n",
        "#call the function\n",
        "a = 18\n",
        "b = 20\n",
        "add(a,b)"
      ],
      "metadata": {
        "colab": {
          "base_uri": "https://localhost:8080/"
        },
        "id": "rRU2JCLacd3Z",
        "outputId": "e5161ede-3062-45ad-f788-efe163c4d291"
      },
      "execution_count": null,
      "outputs": [
        {
          "output_type": "stream",
          "name": "stdout",
          "text": [
            "38\n"
          ]
        }
      ]
    },
    {
      "cell_type": "code",
      "source": [
        "#positional arguments\n",
        "def sub(a,b):\n",
        "   print(a-b)\n",
        "\n",
        "  #calling function\n",
        "sub(20,10)"
      ],
      "metadata": {
        "colab": {
          "base_uri": "https://localhost:8080/"
        },
        "id": "79PVNr6RdXo0",
        "outputId": "f9e8c621-24c7-4344-e44f-d89dbe12763a"
      },
      "execution_count": null,
      "outputs": [
        {
          "output_type": "stream",
          "name": "stdout",
          "text": [
            "10\n"
          ]
        }
      ]
    },
    {
      "cell_type": "code",
      "source": [
        "#keyword arguments\n",
        "def cart(product,price):\n",
        "  print(\"Product is:\",product)\n",
        "  print(\"Price is:\",price)\n",
        "\n",
        "cart(product=\"Handbag\",price=18000)"
      ],
      "metadata": {
        "colab": {
          "base_uri": "https://localhost:8080/"
        },
        "id": "DNUkYTpOdjq_",
        "outputId": "a96f7dde-0267-44ec-8cc7-4ce4cfa02bf8"
      },
      "execution_count": null,
      "outputs": [
        {
          "output_type": "stream",
          "name": "stdout",
          "text": [
            "Product is: Handbag\n",
            "Price is: 18000\n"
          ]
        }
      ]
    },
    {
      "cell_type": "code",
      "source": [
        "def cart(product,price):\n",
        "  print(\"Product is:\",product)\n",
        "  print(\"Price is:\",price)\n",
        "\n",
        "cart(product=\"Bangles\",price=2000)"
      ],
      "metadata": {
        "colab": {
          "base_uri": "https://localhost:8080/"
        },
        "id": "TnKGLrOefgxr",
        "outputId": "c7aee464-469a-47c7-c035-02bc3f4d8298"
      },
      "execution_count": null,
      "outputs": [
        {
          "output_type": "stream",
          "name": "stdout",
          "text": [
            "Product is: Bangles\n",
            "Price is: 2000\n"
          ]
        }
      ]
    },
    {
      "cell_type": "code",
      "source": [
        "def cart(product,price):\n",
        "  print(\"Item is:\",product)\n",
        "  print(\"Cost is:\",price)\n",
        "\n",
        "cart(product=\"Shirts\",price=5000)"
      ],
      "metadata": {
        "colab": {
          "base_uri": "https://localhost:8080/"
        },
        "id": "9B9axleWgAv-",
        "outputId": "68a49bbb-4fff-49c8-cd92-8e430a79e46b"
      },
      "execution_count": null,
      "outputs": [
        {
          "output_type": "stream",
          "name": "stdout",
          "text": [
            "Item is: Shirts\n",
            "Cost is: 5000\n"
          ]
        }
      ]
    },
    {
      "cell_type": "code",
      "source": [
        "#Default arguments\n",
        "def cart(product,price=2000.0):\n",
        "  print(\"Product is:\",product)\n",
        "  print(\"Price is:\",price)\n",
        "\n",
        "cart(product=\"Jeans\")"
      ],
      "metadata": {
        "colab": {
          "base_uri": "https://localhost:8080/"
        },
        "id": "e4jW3-y5gfdk",
        "outputId": "fbab0c5a-d673-4baf-aac9-7f0477809a61"
      },
      "execution_count": null,
      "outputs": [
        {
          "output_type": "stream",
          "name": "stdout",
          "text": [
            "Product is: Jeans\n",
            "Price is: 2000.0\n"
          ]
        }
      ]
    },
    {
      "cell_type": "code",
      "source": [
        "def cart(product,price=5000):\n",
        "  print(\"Product is :\",product)\n",
        "  print(\"Price is :\",price)\n",
        "\n",
        "cart(product=\"Jeans\",price=6000)"
      ],
      "metadata": {
        "colab": {
          "base_uri": "https://localhost:8080/"
        },
        "id": "_OdtxOCBhHV1",
        "outputId": "3a8ac0ca-c959-4213-d7f9-e405c09435d7"
      },
      "execution_count": null,
      "outputs": [
        {
          "output_type": "stream",
          "name": "stdout",
          "text": [
            "Product is : Jeans\n",
            "Price is : 6000\n"
          ]
        }
      ]
    },
    {
      "cell_type": "code",
      "source": [
        "def cart(product,price=1000):\n",
        "  print(\"Product is :\",product)\n",
        "  print(\"Price is :\",price)\n",
        "\n",
        "cart(price=500,product=\"Bat\")"
      ],
      "metadata": {
        "colab": {
          "base_uri": "https://localhost:8080/"
        },
        "id": "gZyJsZiYh0fQ",
        "outputId": "aea8e229-a2d5-42a0-ca50-329ebdd0a074"
      },
      "execution_count": null,
      "outputs": [
        {
          "output_type": "stream",
          "name": "stdout",
          "text": [
            "Product is : Bat\n",
            "Price is : 500\n"
          ]
        }
      ]
    },
    {
      "cell_type": "code",
      "source": [
        "#Anonymous function\n",
        "s = lambda a:a*a\n",
        "\n",
        "x = s(5)\n",
        "print(x)"
      ],
      "metadata": {
        "colab": {
          "base_uri": "https://localhost:8080/"
        },
        "id": "YKmZMnz4i1KA",
        "outputId": "5246224b-0885-4054-8a6e-15301c757756"
      },
      "execution_count": null,
      "outputs": [
        {
          "output_type": "stream",
          "name": "stdout",
          "text": [
            "25\n"
          ]
        }
      ]
    },
    {
      "cell_type": "code",
      "source": [
        "#To find square by using a normal function\n",
        "def square(a):\n",
        "    return a*a\n",
        "\n",
        "s = square(6)\n",
        "print(s)"
      ],
      "metadata": {
        "colab": {
          "base_uri": "https://localhost:8080/"
        },
        "id": "dYzyYv-cjFx0",
        "outputId": "b59a30bb-4fa4-43d7-ff1b-80da24bb337c"
      },
      "execution_count": null,
      "outputs": [
        {
          "output_type": "stream",
          "name": "stdout",
          "text": [
            "36\n"
          ]
        }
      ]
    },
    {
      "cell_type": "code",
      "source": [
        "#To find sum of two values by using normal function\n",
        "def add(x,y):\n",
        "    return x+y\n",
        "\n",
        "b = add(10,20)\n",
        "print(b)"
      ],
      "metadata": {
        "colab": {
          "base_uri": "https://localhost:8080/"
        },
        "id": "73NdkZ4Pjhl6",
        "outputId": "a21eea5e-71ec-46bc-d8e1-d649d649155b"
      },
      "execution_count": null,
      "outputs": [
        {
          "output_type": "stream",
          "name": "stdout",
          "text": [
            "30\n"
          ]
        }
      ]
    },
    {
      "cell_type": "code",
      "source": [
        "#To find sum of values by using anonymous function\n",
        "add = lambda x,y:x+y\n",
        "result = add(10,20)\n",
        "print(\"The sum of value is :\",result)\n"
      ],
      "metadata": {
        "colab": {
          "base_uri": "https://localhost:8080/"
        },
        "id": "AAm6Y4P6kDVB",
        "outputId": "3e63c39a-8ca2-41ea-fdb3-1d9acf2b0b2a"
      },
      "execution_count": null,
      "outputs": [
        {
          "output_type": "stream",
          "name": "stdout",
          "text": [
            "The sum of value is : 30\n"
          ]
        }
      ]
    },
    {
      "cell_type": "code",
      "source": [
        "#find square by using map function\n",
        "without_gst_cost = [100,200,300,400]\n",
        "with_gst_cost = map(lambda x:x+10,without_gst_cost)\n",
        "\n",
        "x = list(with_gst_cost)\n",
        "print(\"without GST items costs:\",without_gst_cost)\n",
        "print(\"with GST items costs:\",x)"
      ],
      "metadata": {
        "colab": {
          "base_uri": "https://localhost:8080/"
        },
        "id": "btcVf-k7t486",
        "outputId": "e2f07096-19ac-449c-9553-4012d92a1b22"
      },
      "execution_count": null,
      "outputs": [
        {
          "output_type": "stream",
          "name": "stdout",
          "text": [
            "without GST items costs: [100, 200, 300, 400]\n",
            "with GST items costs: [110, 210, 310, 410]\n"
          ]
        }
      ]
    },
    {
      "cell_type": "code",
      "source": [
        "#example by using filter function\n",
        "items_cost = [999,888,1100,1200,1300,777]\n",
        "gt_thousand = filter(lambda x:x>1000,items_cost)\n",
        "\n",
        "x = list(gt_thousand)\n",
        "print(\"Eligible for discount:\",x)"
      ],
      "metadata": {
        "colab": {
          "base_uri": "https://localhost:8080/"
        },
        "id": "IZPzFIXJvbWW",
        "outputId": "e822d29a-ad8e-42f9-95ab-86ee694cfd2f"
      },
      "execution_count": null,
      "outputs": [
        {
          "output_type": "stream",
          "name": "stdout",
          "text": [
            "Eligible for discount: [1100, 1200, 1300]\n"
          ]
        }
      ]
    },
    {
      "cell_type": "code",
      "source": [
        "#reduce function\n",
        "from functools import reduce\n",
        "items_cost = [111,222,333,444]\n",
        "total_cost = reduce(lambda x,y:x+y,items_cost)\n",
        "print(total_cost)"
      ],
      "metadata": {
        "colab": {
          "base_uri": "https://localhost:8080/"
        },
        "id": "dne-FD6YwA9c",
        "outputId": "2702ed66-a292-431f-841a-e53bf2c8ea32"
      },
      "execution_count": null,
      "outputs": [
        {
          "output_type": "stream",
          "name": "stdout",
          "text": [
            "1110\n"
          ]
        }
      ]
    }
  ]
}