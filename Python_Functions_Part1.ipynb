{
  "nbformat": 4,
  "nbformat_minor": 0,
  "metadata": {
    "colab": {
      "provenance": [],
      "authorship_tag": "ABX9TyPoAg7liW3xgvuY1WgxDnio",
      "include_colab_link": true
    },
    "kernelspec": {
      "name": "python3",
      "display_name": "Python 3"
    },
    "language_info": {
      "name": "python"
    }
  },
  "cells": [
    {
      "cell_type": "markdown",
      "metadata": {
        "id": "view-in-github",
        "colab_type": "text"
      },
      "source": [
        "<a href=\"https://colab.research.google.com/github/Udaykiran06-art/PYTHON-FUNCTIONS/blob/main/Python_Functions_Part1.ipynb\" target=\"_parent\"><img src=\"https://colab.research.google.com/assets/colab-badge.svg\" alt=\"Open In Colab\"/></a>"
      ]
    },
    {
      "cell_type": "code",
      "execution_count": null,
      "metadata": {
        "id": "Ksk2jOSGeskN"
      },
      "outputs": [],
      "source": [
        "#Create a function\n",
        "\n",
        "#function creating\n",
        "def display():\n",
        "  print(\"Welcome to function\")"
      ]
    },
    {
      "cell_type": "code",
      "source": [
        "#return outside of function which is invald\n",
        "print(\"Hello\")\n",
        "return 100"
      ],
      "metadata": {
        "colab": {
          "base_uri": "https://localhost:8080/",
          "height": 124
        },
        "id": "-gc6_faRCEPI",
        "outputId": "1566f772-aa8e-471d-a738-591cab9af042"
      },
      "execution_count": null,
      "outputs": [
        {
          "output_type": "stream",
          "name": "stdout",
          "text": [
            "Hello\n"
          ]
        },
        {
          "output_type": "error",
          "ename": "SyntaxError",
          "evalue": "'return' outside function (ipython-input-4174778228.py, line 3)",
          "traceback": [
            "\u001b[0;36m  File \u001b[0;32m\"/tmp/ipython-input-4174778228.py\"\u001b[0;36m, line \u001b[0;32m3\u001b[0m\n\u001b[0;31m    return 100\u001b[0m\n\u001b[0m    ^\u001b[0m\n\u001b[0;31mSyntaxError\u001b[0m\u001b[0;31m:\u001b[0m 'return' outside function\n"
          ]
        }
      ]
    },
    {
      "cell_type": "code",
      "source": [
        "#Function displaying information\n",
        "def balance():\n",
        "  print(\"My Bank Balance is:\")\n",
        "balance()\n"
      ],
      "metadata": {
        "colab": {
          "base_uri": "https://localhost:8080/"
        },
        "id": "9Y9A-MoaCZjx",
        "outputId": "2efbb90a-53ef-4524-ebf0-af195393c702"
      },
      "execution_count": null,
      "outputs": [
        {
          "output_type": "stream",
          "name": "stdout",
          "text": [
            "My Bank Balance is:\n"
          ]
        }
      ]
    },
    {
      "cell_type": "code",
      "source": [
        "#Function with return statement displaying information\n",
        "def balance():\n",
        "   print(\"My Bank Balance is:\")\n",
        "   return 100\n",
        "balance()\n"
      ],
      "metadata": {
        "colab": {
          "base_uri": "https://localhost:8080/"
        },
        "id": "wn9aqsBQC8GZ",
        "outputId": "6e6aa0dd-6fab-4cd2-8a3a-b56e9a15328b"
      },
      "execution_count": null,
      "outputs": [
        {
          "output_type": "stream",
          "name": "stdout",
          "text": [
            "My Bank Balance is:\n"
          ]
        },
        {
          "output_type": "execute_result",
          "data": {
            "text/plain": [
              "100"
            ]
          },
          "metadata": {},
          "execution_count": 7
        }
      ]
    },
    {
      "cell_type": "code",
      "source": [
        "#Function with return statement\n",
        "def balance():\n",
        "  print(\"My Bank Balance is:\")\n",
        "  return 1000\n",
        "\n",
        "b = balance()\n",
        "print(b)"
      ],
      "metadata": {
        "colab": {
          "base_uri": "https://localhost:8080/"
        },
        "id": "vye2n1BJDj4M",
        "outputId": "b1eafe63-37fc-427c-b476-160b7a02bb11"
      },
      "execution_count": null,
      "outputs": [
        {
          "output_type": "stream",
          "name": "stdout",
          "text": [
            "My Bank Balance is:\n",
            "1000\n"
          ]
        }
      ]
    },
    {
      "cell_type": "code",
      "source": [
        "#Function with return statement\n",
        "def balance():\n",
        "        return 18\n",
        "b = balance()\n",
        "if b == 0:\n",
        "  print(\"My Balance is:\",b)\n",
        "elif b<+20:\n",
        "  print(\"My Balance is:\",\"negative please deposit\")\n",
        "else:\n",
        "  print(\"My Balance is:\",b)"
      ],
      "metadata": {
        "colab": {
          "base_uri": "https://localhost:8080/"
        },
        "id": "pBsphyD0EH76",
        "outputId": "85560b18-50c6-4862-971b-2752ecb394ac"
      },
      "execution_count": null,
      "outputs": [
        {
          "output_type": "stream",
          "name": "stdout",
          "text": [
            "My Balance is: negative please deposit\n"
          ]
        }
      ]
    },
    {
      "cell_type": "code",
      "source": [
        "#Function with statement\n",
        "def balance():\n",
        "  return -50\n",
        "b = balance()\n",
        "if b == 0:\n",
        "  print(\"Balance is:\",b)\n",
        "elif b<=0:\n",
        "  print(\"Balance is:\",b,\"It is negative please deposit\")\n",
        "else:\n",
        "  print(\"Balance is:\",b)"
      ],
      "metadata": {
        "colab": {
          "base_uri": "https://localhost:8080/"
        },
        "id": "cYMUzyJQFfEp",
        "outputId": "e90b4f6f-7c23-416e-a12a-729f9884d153"
      },
      "execution_count": null,
      "outputs": [
        {
          "output_type": "stream",
          "name": "stdout",
          "text": [
            "Balance is: -50 It is negative please deposit\n"
          ]
        }
      ]
    },
    {
      "cell_type": "code",
      "source": [
        "#Function with return statement\n",
        "def balance():\n",
        "  print(\"My Bank Balance is:\")\n",
        "  return 1800\n",
        "print(balance())"
      ],
      "metadata": {
        "colab": {
          "base_uri": "https://localhost:8080/"
        },
        "id": "SSvukKexGZzA",
        "outputId": "62c12654-94e5-4830-c987-c2f9b17a8cd4"
      },
      "execution_count": null,
      "outputs": [
        {
          "output_type": "stream",
          "name": "stdout",
          "text": [
            "My Bank Balance is:\n",
            "1800\n"
          ]
        }
      ]
    },
    {
      "cell_type": "code",
      "source": [
        "#Function returning the None value\n",
        "def m1():\n",
        "  print(\"This function is returing Nothing:\")\n",
        "x = m1()\n",
        "print(x)\n"
      ],
      "metadata": {
        "colab": {
          "base_uri": "https://localhost:8080/"
        },
        "id": "NpICSZ1TGwez",
        "outputId": "e85ff841-73cf-47d6-a4e1-5b8da27e8ce0"
      },
      "execution_count": null,
      "outputs": [
        {
          "output_type": "stream",
          "name": "stdout",
          "text": [
            "This function is returing Nothing:\n",
            "None\n"
          ]
        }
      ]
    },
    {
      "cell_type": "code",
      "source": [
        "#Define a function which can return multiple values\n",
        "def m1():\n",
        "  a = 10\n",
        "  b = 20\n",
        "  return a,b\n",
        "x,y = m1()\n",
        "print(\"First value is:\",x)\n",
        "print(\"Second value is:\",y)"
      ],
      "metadata": {
        "colab": {
          "base_uri": "https://localhost:8080/"
        },
        "id": "L1Lvf1Z4H_Ed",
        "outputId": "827b0cf7-1034-49fb-88c1-31c497a3a452"
      },
      "execution_count": null,
      "outputs": [
        {
          "output_type": "stream",
          "name": "stdout",
          "text": [
            "First value is: 10\n",
            "Second value is: 20\n"
          ]
        }
      ]
    },
    {
      "cell_type": "code",
      "source": [
        "#Define a function which can return multiple values\n",
        "def m1():\n",
        "  a = 10\n",
        "  b = 12\n",
        "  c = 18\n",
        "  return a,b,c\n",
        "x,y,z = m1()\n",
        "print(\"First value is:\",x)\n",
        "print(\"Second value is:\",y)\n",
        "print(\"Third value is:\",z)"
      ],
      "metadata": {
        "colab": {
          "base_uri": "https://localhost:8080/"
        },
        "id": "dzI_-gZoIoPr",
        "outputId": "def44d08-def4-4d1c-f106-4d0a5026db75"
      },
      "execution_count": null,
      "outputs": [
        {
          "output_type": "stream",
          "name": "stdout",
          "text": [
            "First value is: 10\n",
            "Second value is: 12\n",
            "Third value is: 18\n"
          ]
        }
      ]
    },
    {
      "cell_type": "code",
      "source": [
        "#Define a function which can return multiple values\n",
        "def m1():\n",
        "  a = 18\n",
        "  b = 22\n",
        "  c = 17\n",
        "  return a,b,c\n",
        "x = m1()\n",
        "print(\"All values:\",x)"
      ],
      "metadata": {
        "colab": {
          "base_uri": "https://localhost:8080/"
        },
        "id": "-EajzoFTJSwx",
        "outputId": "9e0024bf-6710-44df-9c98-3c025a3c9397"
      },
      "execution_count": null,
      "outputs": [
        {
          "output_type": "stream",
          "name": "stdout",
          "text": [
            "All values: (18, 22, 17)\n"
          ]
        }
      ]
    },
    {
      "cell_type": "code",
      "source": [
        "#A function with parameters and return type\n",
        "def add(x,y,z):\n",
        "  result = x+y+z\n",
        "  return result\n",
        "r = add(10,20,30)\n",
        "print(\"Addition of values:\",r)"
      ],
      "metadata": {
        "colab": {
          "base_uri": "https://localhost:8080/"
        },
        "id": "KKEBPQCnKQoF",
        "outputId": "ea3d0480-ddb7-4887-8328-5f19c14f0f61"
      },
      "execution_count": null,
      "outputs": [
        {
          "output_type": "stream",
          "name": "stdout",
          "text": [
            "Addition of values: 60\n"
          ]
        }
      ]
    },
    {
      "cell_type": "code",
      "source": [
        "#Create and call user defined function\n",
        "\n",
        "#function creation\n",
        "def display():\n",
        "    print(\"Welcome to function\")\n",
        "\n",
        "#function calling\n",
        "display()\n"
      ],
      "metadata": {
        "colab": {
          "base_uri": "https://localhost:8080/"
        },
        "id": "kuewEnI0fKdP",
        "outputId": "5c1bab57-6626-4489-d9dd-1e8db9db57a1"
      },
      "execution_count": null,
      "outputs": [
        {
          "output_type": "stream",
          "name": "stdout",
          "text": [
            "Welcome to function\n"
          ]
        }
      ]
    },
    {
      "cell_type": "code",
      "source": [
        "#creating two functions and calling two functions\n",
        "\n",
        "#function creation\n",
        "def first():\n",
        "     print(\"This is First Function\")\n",
        "\n",
        "def second():\n",
        "     print(\"This is Second Function\")\n",
        "\n",
        "#function calling\n",
        "first()\n",
        "second()"
      ],
      "metadata": {
        "colab": {
          "base_uri": "https://localhost:8080/"
        },
        "id": "c9QN3e-qf2Lp",
        "outputId": "c1fa7fca-0e52-475b-c2ff-2b1c76a4b2b6"
      },
      "execution_count": null,
      "outputs": [
        {
          "output_type": "stream",
          "name": "stdout",
          "text": [
            "This is First Function\n",
            "This is Second Function\n"
          ]
        }
      ]
    },
    {
      "cell_type": "code",
      "source": [
        "#creating two functions and calling those functions\n",
        "def first():\n",
        "  print(\"This is First Function\")\n",
        "\n",
        "def second():\n",
        "  print(\"This is Second Function\")\n",
        "\n",
        "second()\n",
        "first()"
      ],
      "metadata": {
        "colab": {
          "base_uri": "https://localhost:8080/"
        },
        "id": "1cgarqMkhOIY",
        "outputId": "13c9c37c-c801-4b53-e666-b5e7f0f5f369"
      },
      "execution_count": null,
      "outputs": [
        {
          "output_type": "stream",
          "name": "stdout",
          "text": [
            "This is Second Function\n",
            "This is First Function\n"
          ]
        }
      ]
    },
    {
      "cell_type": "code",
      "source": [
        "#Creating two functions\n",
        "def m1():\n",
        "  print(\"First Function\")\n",
        "\n",
        "def m2():\n",
        "  print(\"Second Function\")\n",
        "\n",
        "m1()\n",
        "m2()"
      ],
      "metadata": {
        "colab": {
          "base_uri": "https://localhost:8080/"
        },
        "id": "wXc29mvrh71P",
        "outputId": "e1802f70-af7f-4d76-ac17-da3d1dd43bc0"
      },
      "execution_count": null,
      "outputs": [
        {
          "output_type": "stream",
          "name": "stdout",
          "text": [
            "First Function\n",
            "Second Function\n"
          ]
        }
      ]
    },
    {
      "cell_type": "code",
      "source": [
        "#One function can call another function\n",
        "def m1():\n",
        "  print(\"First Function\")\n",
        "  m2()\n",
        "def m2():\n",
        "  print(\"Second Function\")\n",
        "m1()\n"
      ],
      "metadata": {
        "colab": {
          "base_uri": "https://localhost:8080/"
        },
        "id": "-GeHKw-giZSs",
        "outputId": "72362968-1d6d-4321-e863-c381c6ec7a89"
      },
      "execution_count": null,
      "outputs": [
        {
          "output_type": "stream",
          "name": "stdout",
          "text": [
            "First Function\n",
            "Second Function\n"
          ]
        }
      ]
    },
    {
      "cell_type": "code",
      "source": [
        "#function which having no parameters\n",
        "\n",
        "#defining a function\n",
        "def function():\n",
        "  print(\"This is a function which having no parameters\")\n",
        "\n",
        "#calling Function'\n",
        "function()"
      ],
      "metadata": {
        "colab": {
          "base_uri": "https://localhost:8080/"
        },
        "id": "0P4eI4g8i674",
        "outputId": "4c75d811-2d54-4afd-bda1-fdc363da10a3"
      },
      "execution_count": null,
      "outputs": [
        {
          "output_type": "stream",
          "name": "stdout",
          "text": [
            "This is a function which having no parameters\n"
          ]
        }
      ]
    },
    {
      "cell_type": "code",
      "source": [
        "#One parameterized function\n",
        "\n",
        "def testing(a):\n",
        "    print(\"One parameterized function:\",a)\n",
        "\n",
        "testing(10)"
      ],
      "metadata": {
        "colab": {
          "base_uri": "https://localhost:8080/"
        },
        "id": "ODkp98BojeaW",
        "outputId": "391e46b4-e0e6-45e0-a98f-c593c18d56ee"
      },
      "execution_count": null,
      "outputs": [
        {
          "output_type": "stream",
          "name": "stdout",
          "text": [
            "One parameterized function: 10\n"
          ]
        }
      ]
    },
    {
      "cell_type": "code",
      "source": [
        "#One parameterized function\n",
        "def testing(a):\n",
        "   print(\"One parameterized function:\",a)\n",
        "testing(18.5)\n"
      ],
      "metadata": {
        "colab": {
          "base_uri": "https://localhost:8080/"
        },
        "id": "hcf7XBixkewH",
        "outputId": "9b770c1e-ebf9-4c65-b190-92e867b9d977"
      },
      "execution_count": null,
      "outputs": [
        {
          "output_type": "stream",
          "name": "stdout",
          "text": [
            "One parameterized function: 18.5\n"
          ]
        }
      ]
    },
    {
      "cell_type": "code",
      "source": [
        "#One parameterized function\n",
        "def testing(a):\n",
        "   print(\"One parameterized function:\",a)\n",
        "testing(\"Uday\")\n"
      ],
      "metadata": {
        "colab": {
          "base_uri": "https://localhost:8080/"
        },
        "id": "V92WJUbwlAet",
        "outputId": "f30678c9-25f6-4f4e-ded3-b7df91f6e1f9"
      },
      "execution_count": null,
      "outputs": [
        {
          "output_type": "stream",
          "name": "stdout",
          "text": [
            "One parameterized function: Uday\n"
          ]
        }
      ]
    },
    {
      "cell_type": "code",
      "source": [
        "#One parameterized function\n",
        "def testing(a):\n",
        "   print(\"One parameterized function:\",a)\n",
        "\n",
        "x = input(\"Enter a value\")\n",
        "testing(x)\n"
      ],
      "metadata": {
        "colab": {
          "base_uri": "https://localhost:8080/"
        },
        "id": "fGFESTrhlOIB",
        "outputId": "6982abb8-0bd8-42c7-e44c-517be1e64f42"
      },
      "execution_count": null,
      "outputs": [
        {
          "output_type": "stream",
          "name": "stdout",
          "text": [
            "Enter a value18\n",
            "One parameterized function: 18\n"
          ]
        }
      ]
    },
    {
      "cell_type": "code",
      "source": [
        "#Two parameterized function\n",
        "def testing(a,b):\n",
        "   print(\"Two Parameterized Function:\",a,b)\n",
        "testing(18,5)"
      ],
      "metadata": {
        "colab": {
          "base_uri": "https://localhost:8080/"
        },
        "id": "wpMtvZu0l4GG",
        "outputId": "ecf8c10c-2f52-4a16-8a3c-5d9a1b53c4bd"
      },
      "execution_count": null,
      "outputs": [
        {
          "output_type": "stream",
          "name": "stdout",
          "text": [
            "Two Parameterized Function: 18 5\n"
          ]
        }
      ]
    },
    {
      "cell_type": "code",
      "source": [
        "#Function Performing Adding Operation\n",
        "def addition(a,b):\n",
        "   print(\"Addition Of Two Values:\",a+b)\n",
        "addition(18,5)"
      ],
      "metadata": {
        "colab": {
          "base_uri": "https://localhost:8080/"
        },
        "id": "7yDkIpammYfb",
        "outputId": "84bfca6e-17ed-4023-84fc-cf9275c4f2e5"
      },
      "execution_count": null,
      "outputs": [
        {
          "output_type": "stream",
          "name": "stdout",
          "text": [
            "Addition Of Two Values: 23\n"
          ]
        }
      ]
    }
  ]
}